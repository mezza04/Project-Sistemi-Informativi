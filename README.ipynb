{
 "cells": [
  {
   "cell_type": "markdown",
   "metadata": {},
   "source": [
    "## Descrizione del modello e del dataset\n",
    "\n",
    "Il dataset analizza la valutazione immobiliare basata su dati storici di mercato raccolti nel Distretto di Sindian, nella Nuova Taipei City e a Taiwan. Si compone di 414 osservazioni e include 6 variabili caratteristiche, oltre alla variabile target che rappresenta il prezzo delle abitazioni.\n",
    "\n",
    "Le informazioni contenute nel dataset sono fondamentali per comprendere le dinamiche del mercato immobiliare in questa specifica area geografica. Ogni transazione è descritta attraverso:\n",
    "\n",
    "La data della transazione (X1), espressa in formato continuo, dove per esempio \"2013.250\" indica il mese di marzo 2013.\n",
    "\n",
    "L’età dell’abitazione (X2), ovvero il numero di anni dalla costruzione.\n",
    "\n",
    "La distanza dalla stazione MRT più vicina (X3), misurata in metri, un indicatore chiave della connettività dell’immobile ai trasporti pubblici.\n",
    "\n",
    "Il numero di minimarket nelle vicinanze (X4), che riflette la comodità dell’area dal punto di vista dei servizi disponibili.\n",
    "\n",
    "Le coordinate geografiche (X5, X6), ovvero latitudine e longitudine dell’immobile, che permettono di individuare con precisione la sua posizione.\n",
    "\n",
    "La variabile target (Y) rappresenta il prezzo unitario delle abitazioni, espresso in 10.000 dollari taiwanesi per Ping, un'unità locale di misura equivalente a circa 3,3 metri quadrati.\n",
    "\n",
    "Questo dataset risulta particolarmente utile per analisi di mercato, valutazioni immobiliari e modelli predittivi volti a stimare il valore degli immobili in funzione di fattori geografici, infrastrutturali e di servizio. Proprio con questo scopo sono stati addestrati due modelli di tipo gradient boosting. questi due modelli utilizzano diverse variabili per calcolare delle stime per i prezzi delle abitazioni nella zona in questione. \n",
    "\n",
    "Se si è interessati a vedere le metriche di valutazione dei modelli è possibile farlo togliendo dal codice i commenti dalla sezione di trainig del rispettivo modello.\n",
    "\n",
    "## Istruzioni per eseguire l’applicazione\n",
    "\n",
    "Per eseguire l'applicazione è sufficiente scaricare il dataset di training \"Real estate valutation data set\" e il codice python dal file \"script\" per poi eseguirlo tramite:\n",
    "streamlit run script.py"
   ]
  }
 ],
 "metadata": {
  "language_info": {
   "name": "python"
  }
 },
 "nbformat": 4,
 "nbformat_minor": 2
}
